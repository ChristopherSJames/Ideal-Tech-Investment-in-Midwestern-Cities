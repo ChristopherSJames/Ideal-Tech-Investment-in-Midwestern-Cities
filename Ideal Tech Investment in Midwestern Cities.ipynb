{
 "cells": [
  {
   "cell_type": "markdown",
   "metadata": {},
   "source": [
    "# Ideal Tech Investment in Midwestern Cities"
   ]
  },
  {
   "cell_type": "markdown",
   "metadata": {},
   "source": [
    "&nbsp;&nbsp;&nbsp;&nbsp;&nbsp;&nbsp;It is common knowledge that Silicon Valley is the premier location for all things tech. Thanks to economic agglomeration effects, this is not going to change anytime soon. Despite this, there are a rising number of tech companies, from startups to established titans, along with investors, who are looking for alternatives to Silicon Valley. An example of this is AOL founder Steve Case's Rise of the Rest fund. Some of these companies are looking to move, while others may just want to open regional locations.<br>\n",
    "&nbsp;&nbsp;&nbsp;&nbsp;&nbsp;&nbsp;In this analysis, I will be looking at the number of tech startups in different midwestern cities, along with the Zillow home value indexes as a way to gauge cost of living. I will also list the percentage of people with bachelors degrees of higher, because this industry requires a skilled, educated workforce. I will use this data to try to discover the ideal place to focus investment. Due to the aforementioned agglomeration affects, the ideal place has a high number of tech startups with a low home value index, along with a high percentage of college grads.<br>\n",
    "&nbsp;&nbsp;&nbsp;&nbsp;&nbsp;&nbsp;The data souces I will be using are as follows: For the tech startup numbers, I will be using the foursquare api, as linked [here](https://api.foursquare.com/v2/venues/explore?&client_id={}&client_secret={}&v={}&categoryId={}&near={}). For the housing data, I will be using the zillow home value index, as linked [here](https://www.zillow.com/home-values/). For the college degree numbers, I will be using this [site](https://www.indexmundi.com/facts/united-states/quick-facts/cities/rank/percent-of-people-25-years-and-over-with-bachelors-degree-or-higher)."
   ]
  },
  {
   "cell_type": "code",
   "execution_count": null,
   "metadata": {},
   "outputs": [],
   "source": []
  }
 ],
 "metadata": {
  "kernelspec": {
   "display_name": "Python 3",
   "language": "python",
   "name": "python3"
  },
  "language_info": {
   "codemirror_mode": {
    "name": "ipython",
    "version": 3
   },
   "file_extension": ".py",
   "mimetype": "text/x-python",
   "name": "python",
   "nbconvert_exporter": "python",
   "pygments_lexer": "ipython3",
   "version": "3.8.5"
  }
 },
 "nbformat": 4,
 "nbformat_minor": 4
}
