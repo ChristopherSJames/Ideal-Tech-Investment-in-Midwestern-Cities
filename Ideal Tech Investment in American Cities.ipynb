{
 "cells": [
  {
   "cell_type": "markdown",
   "metadata": {},
   "source": [
    "# Ideal Tech Investment in American Cities<a name=\"top\"></a>"
   ]
  },
  {
   "cell_type": "markdown",
   "metadata": {},
   "source": [
    "## Table of Contents\n",
    "\n",
    "* [Introduction](#introduction)\n",
    "* [Data Gathering](#datagathering)\n",
    "* [Methodology](#Methodology)\n",
    "* [Analysis](#analysis)\n",
    "* [Results](#results)\n",
    "* [Conclusion](#conclusion)"
   ]
  },
  {
   "cell_type": "markdown",
   "metadata": {},
   "source": [
    "## Introduction <a name=\"introduction\"></a>"
   ]
  },
  {
   "cell_type": "markdown",
   "metadata": {},
   "source": [
    "&nbsp;&nbsp;&nbsp;&nbsp;&nbsp;&nbsp;It is common knowledge that Silicon Valley is the premier location for all things tech. Thanks to economic agglomeration effects, this is not going to change anytime soon. Despite this, there are a rising number of tech companies, from startups to established titans, along with investors, who are looking for alternatives to Silicon Valley. An example of this is AOL founder Steve Case's Rise of the Rest Fund. Some of these companies are looking to move, while others may just want to open regional locations.<br>\n",
    "&nbsp;&nbsp;&nbsp;&nbsp;&nbsp;&nbsp;In this analysis, I will be looking at the number of tech startups in the top 100 biggest American cities, along with the Zillow home value indexes as a way to gauge cost of living. I will also list the percentage of people with bachelor's degrees or higher, because this industry requires a skilled, educated workforce. I will use this data to try to discover the ideal place to focus investment. Due to the aforementioned agglomeration affects, the ideal place has a high number of tech startups with a low home value index, along with a high percentage of college grads."
   ]
  },
  {
   "cell_type": "markdown",
   "metadata": {},
   "source": [
    "## Data Gathering <a name=\"datagathering\"></a>"
   ]
  },
  {
   "cell_type": "markdown",
   "metadata": {},
   "source": [
    "[Back to Top](#top)"
   ]
  },
  {
   "cell_type": "markdown",
   "metadata": {},
   "source": [
    "&nbsp;&nbsp;&nbsp;&nbsp;&nbsp;&nbsp;The data souces I will be using are as follows: For the tech startup numbers, I will be using the foursquare api, as linked [here](https://api.foursquare.com/v2/venues/explore?&client_id={}&client_secret={}&v={}&categoryId={}&near={}). For the housing data, I will be using the zillow home value index, as linked [here](https://www.zillow.com/research/data/). For the college degree numbers, I will be using this [site](https://www.indexmundi.com/facts/united-states/quick-facts/cities/rank/percent-of-people-25-years-and-over-with-bachelors-degree-or-higher)."
   ]
  },
  {
   "cell_type": "markdown",
   "metadata": {},
   "source": [
    "First, let's go ahead and import all of the needed librairies, along with the code needed to use the foursquare api."
   ]
  },
  {
   "cell_type": "code",
   "execution_count": 2,
   "metadata": {},
   "outputs": [],
   "source": [
    "import numpy as np\n",
    "import pandas as pd\n",
    "import requests\n",
    "import matplotlib.pyplot as plt\n",
    "from bs4 import BeautifulSoup\n",
    "\n",
    "pd.set_option('display.max_rows', None)"
   ]
  },
  {
   "cell_type": "code",
   "execution_count": 3,
   "metadata": {},
   "outputs": [],
   "source": [
    "# foursquare api info.\n",
    "CLIENT_ID = 'REDACTED' # Foursquare ID\n",
    "CLIENT_SECRET = 'REDACTED' # Foursquare Secret\n",
    "VERSION = 'REDACTED' # Foursquare API version\n",
    "CATEGORYID = '4bf58dd8d48988d125941735'"
   ]
  },
  {
   "cell_type": "markdown",
   "metadata": {},
   "source": [
    "Next, lets download the webpage for the college data and create a soup file out of it.  "
   ]
  },
  {
   "cell_type": "code",
   "execution_count": 4,
   "metadata": {},
   "outputs": [],
   "source": [
    "# Download url and filter out everything but text\n",
    "url = 'https://www.indexmundi.com/facts/united-states/quick-facts/cities/rank/percent-of-people-25-years-and-over-with-bachelors-degree-or-higher'\n",
    "data  = requests.get(url).text "
   ]
  },
  {
   "cell_type": "code",
   "execution_count": 5,
   "metadata": {},
   "outputs": [],
   "source": [
    "# create soup file out of webpage. \n",
    "soup = BeautifulSoup(data,\"html5lib\")"
   ]
  },
  {
   "cell_type": "markdown",
   "metadata": {},
   "source": [
    "Let's go ahead and zero in on only the data that we need and put it into a dataframe. That data includes the city name, the state name, and the college degree percentage."
   ]
  },
  {
   "cell_type": "code",
   "execution_count": 6,
   "metadata": {},
   "outputs": [],
   "source": [
    "# Narrow in on desired data and remove unwanted characters\n",
    "college_chart = str(soup.find_all('script')[12]).split('<set label')[1:]\n",
    "\n",
    "college_chart_clean = []\n",
    "for index in college_chart:\n",
    "    clean = index.replace('\"', '').replace('=', '').replace('/', '').replace(\"'\", '').replace('>', '').split(' ')\n",
    "    if len(clean) == 4:\n",
    "        college_chart_clean.append([clean[0] + ' ' +  clean[1], clean[2].replace('value', '')])\n",
    "    elif len(clean) == 5:\n",
    "        college_chart_clean.append([clean[0] + ' ' +  clean[1] + ' ' + clean[2], clean[3].replace('value', '')])\n",
    "    else:\n",
    "        college_chart_clean.append([clean[0], clean[1].replace('value', '')])"
   ]
  },
  {
   "cell_type": "code",
   "execution_count": 7,
   "metadata": {},
   "outputs": [],
   "source": [
    "# Split the college_chart data into lists of cities and degree percentage values\n",
    "city_list = []\n",
    "degree_list = []\n",
    "for index in college_chart_clean:\n",
    "    city_list.append(index[0])\n",
    "    degree_list.append(index[1])"
   ]
  },
  {
   "cell_type": "code",
   "execution_count": 8,
   "metadata": {},
   "outputs": [],
   "source": [
    "# Create list of states to go along with other data. Due to multiple towns with same names, manual entry was required.\n",
    "state_list = ['CA','WA','WI','DC','AZ','CA','TX','CA','TX','NC','GA','MN',\n",
    "              'OR','NC','MA','CO','NJ','CA','AZ','AZ','NC','PA','CA','CA',\n",
    "              'ID','MN','CO','NE','VA','IL','NC','NY','FL','LA','FL','NE',\n",
    "              'HI','TX','OH','OH','AK','VA','MO','NM','FL','MO','CA','LA',\n",
    "              'NV','CA','VA','NV','TX','TX','MD','OK','CA','WA','TX','OK',\n",
    "              'KS','VA','CO','CA','TX','PA','WA','AZ','VA','FL','FL','IN',\n",
    "              'AZ','NY','AZ','TX','IA','TN','CA','TX','WI','NV','TX','CA',\n",
    "              'TX','CA','CA','AZ','TX','CA','OH','CA','CA','NV','OH','NJ',\n",
    "              'MI','FL','CA','CA']"
   ]
  },
  {
   "cell_type": "code",
   "execution_count": 9,
   "metadata": {},
   "outputs": [],
   "source": [
    "# create dataframe \n",
    "investor_data = pd.DataFrame(columns = ['City', 'State', 'HomePrice', 'StartupNumber', 'DegreePercent'])"
   ]
  },
  {
   "cell_type": "code",
   "execution_count": 10,
   "metadata": {},
   "outputs": [],
   "source": [
    "# Add lists of city names, degree percentage values, and states to dataframe.\n",
    "investor_data['City'] = city_list\n",
    "investor_data['DegreePercent'] = degree_list\n",
    "investor_data['State'] = state_list"
   ]
  },
  {
   "cell_type": "code",
   "execution_count": 11,
   "metadata": {},
   "outputs": [],
   "source": [
    "# read data on cities and metropolitan areas into seperate dataframes.\n",
    "metro_data = pd.read_csv('Metro_zhvi_uc_sfrcondo_tier_0.33_0.67_sm_sa_mon.csv')\n",
    "city_data = pd.read_csv('City_zhvi_uc_sfrcondo_tier_0.33_0.67_sm_sa_mon.csv')"
   ]
  },
  {
   "cell_type": "code",
   "execution_count": 12,
   "metadata": {},
   "outputs": [
    {
     "data": {
      "text/html": [
       "<div>\n",
       "<style scoped>\n",
       "    .dataframe tbody tr th:only-of-type {\n",
       "        vertical-align: middle;\n",
       "    }\n",
       "\n",
       "    .dataframe tbody tr th {\n",
       "        vertical-align: top;\n",
       "    }\n",
       "\n",
       "    .dataframe thead th {\n",
       "        text-align: right;\n",
       "    }\n",
       "</style>\n",
       "<table border=\"1\" class=\"dataframe\">\n",
       "  <thead>\n",
       "    <tr style=\"text-align: right;\">\n",
       "      <th></th>\n",
       "      <th>RegionID</th>\n",
       "      <th>SizeRank</th>\n",
       "      <th>RegionName</th>\n",
       "      <th>RegionType</th>\n",
       "      <th>StateName</th>\n",
       "      <th>1996-01-31</th>\n",
       "      <th>1996-02-29</th>\n",
       "      <th>1996-03-31</th>\n",
       "      <th>1996-04-30</th>\n",
       "      <th>1996-05-31</th>\n",
       "      <th>...</th>\n",
       "      <th>2020-05-31</th>\n",
       "      <th>2020-06-30</th>\n",
       "      <th>2020-07-31</th>\n",
       "      <th>2020-08-31</th>\n",
       "      <th>2020-09-30</th>\n",
       "      <th>2020-10-31</th>\n",
       "      <th>2020-11-30</th>\n",
       "      <th>2020-12-31</th>\n",
       "      <th>2021-01-31</th>\n",
       "      <th>2021-02-28</th>\n",
       "    </tr>\n",
       "  </thead>\n",
       "  <tbody>\n",
       "    <tr>\n",
       "      <th>0</th>\n",
       "      <td>102001</td>\n",
       "      <td>0</td>\n",
       "      <td>United States</td>\n",
       "      <td>Country</td>\n",
       "      <td>NaN</td>\n",
       "      <td>106948.0</td>\n",
       "      <td>106975.0</td>\n",
       "      <td>107025.0</td>\n",
       "      <td>107151.0</td>\n",
       "      <td>107293.0</td>\n",
       "      <td>...</td>\n",
       "      <td>251561.0</td>\n",
       "      <td>252808.0</td>\n",
       "      <td>254322.0</td>\n",
       "      <td>256273.0</td>\n",
       "      <td>258554.0</td>\n",
       "      <td>261062.0</td>\n",
       "      <td>263778.0</td>\n",
       "      <td>266596.0</td>\n",
       "      <td>269440.0</td>\n",
       "      <td>272446.0</td>\n",
       "    </tr>\n",
       "    <tr>\n",
       "      <th>1</th>\n",
       "      <td>394913</td>\n",
       "      <td>1</td>\n",
       "      <td>New York, NY</td>\n",
       "      <td>Msa</td>\n",
       "      <td>NY</td>\n",
       "      <td>187450.0</td>\n",
       "      <td>187013.0</td>\n",
       "      <td>186734.0</td>\n",
       "      <td>186202.0</td>\n",
       "      <td>185885.0</td>\n",
       "      <td>...</td>\n",
       "      <td>485001.0</td>\n",
       "      <td>486825.0</td>\n",
       "      <td>489253.0</td>\n",
       "      <td>492450.0</td>\n",
       "      <td>496604.0</td>\n",
       "      <td>501301.0</td>\n",
       "      <td>506351.0</td>\n",
       "      <td>511230.0</td>\n",
       "      <td>515876.0</td>\n",
       "      <td>520587.0</td>\n",
       "    </tr>\n",
       "    <tr>\n",
       "      <th>2</th>\n",
       "      <td>753899</td>\n",
       "      <td>2</td>\n",
       "      <td>Los Angeles-Long Beach-Anaheim, CA</td>\n",
       "      <td>Msa</td>\n",
       "      <td>CA</td>\n",
       "      <td>187876.0</td>\n",
       "      <td>188138.0</td>\n",
       "      <td>188158.0</td>\n",
       "      <td>188268.0</td>\n",
       "      <td>188241.0</td>\n",
       "      <td>...</td>\n",
       "      <td>706656.0</td>\n",
       "      <td>707939.0</td>\n",
       "      <td>712420.0</td>\n",
       "      <td>719736.0</td>\n",
       "      <td>727484.0</td>\n",
       "      <td>734401.0</td>\n",
       "      <td>741356.0</td>\n",
       "      <td>748439.0</td>\n",
       "      <td>755007.0</td>\n",
       "      <td>761635.0</td>\n",
       "    </tr>\n",
       "    <tr>\n",
       "      <th>3</th>\n",
       "      <td>394463</td>\n",
       "      <td>3</td>\n",
       "      <td>Chicago, IL</td>\n",
       "      <td>Msa</td>\n",
       "      <td>IL</td>\n",
       "      <td>163550.0</td>\n",
       "      <td>163249.0</td>\n",
       "      <td>162853.0</td>\n",
       "      <td>162403.0</td>\n",
       "      <td>161800.0</td>\n",
       "      <td>...</td>\n",
       "      <td>246198.0</td>\n",
       "      <td>246846.0</td>\n",
       "      <td>248003.0</td>\n",
       "      <td>249557.0</td>\n",
       "      <td>251649.0</td>\n",
       "      <td>253978.0</td>\n",
       "      <td>256316.0</td>\n",
       "      <td>258626.0</td>\n",
       "      <td>260645.0</td>\n",
       "      <td>263185.0</td>\n",
       "    </tr>\n",
       "    <tr>\n",
       "      <th>4</th>\n",
       "      <td>394514</td>\n",
       "      <td>4</td>\n",
       "      <td>Dallas-Fort Worth, TX</td>\n",
       "      <td>Msa</td>\n",
       "      <td>TX</td>\n",
       "      <td>111771.0</td>\n",
       "      <td>111834.0</td>\n",
       "      <td>111994.0</td>\n",
       "      <td>112314.0</td>\n",
       "      <td>112658.0</td>\n",
       "      <td>...</td>\n",
       "      <td>258447.0</td>\n",
       "      <td>259779.0</td>\n",
       "      <td>261345.0</td>\n",
       "      <td>263147.0</td>\n",
       "      <td>265016.0</td>\n",
       "      <td>267474.0</td>\n",
       "      <td>269998.0</td>\n",
       "      <td>272884.0</td>\n",
       "      <td>275201.0</td>\n",
       "      <td>278259.0</td>\n",
       "    </tr>\n",
       "  </tbody>\n",
       "</table>\n",
       "<p>5 rows × 307 columns</p>\n",
       "</div>"
      ],
      "text/plain": [
       "   RegionID  SizeRank                          RegionName RegionType  \\\n",
       "0    102001         0                       United States    Country   \n",
       "1    394913         1                        New York, NY        Msa   \n",
       "2    753899         2  Los Angeles-Long Beach-Anaheim, CA        Msa   \n",
       "3    394463         3                         Chicago, IL        Msa   \n",
       "4    394514         4               Dallas-Fort Worth, TX        Msa   \n",
       "\n",
       "  StateName  1996-01-31  1996-02-29  1996-03-31  1996-04-30  1996-05-31  ...  \\\n",
       "0       NaN    106948.0    106975.0    107025.0    107151.0    107293.0  ...   \n",
       "1        NY    187450.0    187013.0    186734.0    186202.0    185885.0  ...   \n",
       "2        CA    187876.0    188138.0    188158.0    188268.0    188241.0  ...   \n",
       "3        IL    163550.0    163249.0    162853.0    162403.0    161800.0  ...   \n",
       "4        TX    111771.0    111834.0    111994.0    112314.0    112658.0  ...   \n",
       "\n",
       "   2020-05-31  2020-06-30  2020-07-31  2020-08-31  2020-09-30  2020-10-31  \\\n",
       "0    251561.0    252808.0    254322.0    256273.0    258554.0    261062.0   \n",
       "1    485001.0    486825.0    489253.0    492450.0    496604.0    501301.0   \n",
       "2    706656.0    707939.0    712420.0    719736.0    727484.0    734401.0   \n",
       "3    246198.0    246846.0    248003.0    249557.0    251649.0    253978.0   \n",
       "4    258447.0    259779.0    261345.0    263147.0    265016.0    267474.0   \n",
       "\n",
       "   2020-11-30  2020-12-31  2021-01-31  2021-02-28  \n",
       "0    263778.0    266596.0    269440.0    272446.0  \n",
       "1    506351.0    511230.0    515876.0    520587.0  \n",
       "2    741356.0    748439.0    755007.0    761635.0  \n",
       "3    256316.0    258626.0    260645.0    263185.0  \n",
       "4    269998.0    272884.0    275201.0    278259.0  \n",
       "\n",
       "[5 rows x 307 columns]"
      ]
     },
     "execution_count": 12,
     "metadata": {},
     "output_type": "execute_result"
    }
   ],
   "source": [
    "metro_data.head()"
   ]
  },
  {
   "cell_type": "code",
   "execution_count": 13,
   "metadata": {},
   "outputs": [
    {
     "data": {
      "text/html": [
       "<div>\n",
       "<style scoped>\n",
       "    .dataframe tbody tr th:only-of-type {\n",
       "        vertical-align: middle;\n",
       "    }\n",
       "\n",
       "    .dataframe tbody tr th {\n",
       "        vertical-align: top;\n",
       "    }\n",
       "\n",
       "    .dataframe thead th {\n",
       "        text-align: right;\n",
       "    }\n",
       "</style>\n",
       "<table border=\"1\" class=\"dataframe\">\n",
       "  <thead>\n",
       "    <tr style=\"text-align: right;\">\n",
       "      <th></th>\n",
       "      <th>RegionID</th>\n",
       "      <th>SizeRank</th>\n",
       "      <th>RegionName</th>\n",
       "      <th>RegionType</th>\n",
       "      <th>StateName</th>\n",
       "      <th>State</th>\n",
       "      <th>Metro</th>\n",
       "      <th>CountyName</th>\n",
       "      <th>1996-01-31</th>\n",
       "      <th>1996-02-29</th>\n",
       "      <th>...</th>\n",
       "      <th>2020-05-31</th>\n",
       "      <th>2020-06-30</th>\n",
       "      <th>2020-07-31</th>\n",
       "      <th>2020-08-31</th>\n",
       "      <th>2020-09-30</th>\n",
       "      <th>2020-10-31</th>\n",
       "      <th>2020-11-30</th>\n",
       "      <th>2020-12-31</th>\n",
       "      <th>2021-01-31</th>\n",
       "      <th>2021-02-28</th>\n",
       "    </tr>\n",
       "  </thead>\n",
       "  <tbody>\n",
       "    <tr>\n",
       "      <th>0</th>\n",
       "      <td>6181</td>\n",
       "      <td>0</td>\n",
       "      <td>New York</td>\n",
       "      <td>City</td>\n",
       "      <td>NY</td>\n",
       "      <td>NY</td>\n",
       "      <td>New York-Newark-Jersey City</td>\n",
       "      <td>Queens County</td>\n",
       "      <td>191446.0</td>\n",
       "      <td>190894.0</td>\n",
       "      <td>...</td>\n",
       "      <td>639311.0</td>\n",
       "      <td>640784.0</td>\n",
       "      <td>641740.0</td>\n",
       "      <td>643737.0</td>\n",
       "      <td>645612.0</td>\n",
       "      <td>647736.0</td>\n",
       "      <td>649650.0</td>\n",
       "      <td>651034.0</td>\n",
       "      <td>651760.0</td>\n",
       "      <td>652012.0</td>\n",
       "    </tr>\n",
       "    <tr>\n",
       "      <th>1</th>\n",
       "      <td>12447</td>\n",
       "      <td>1</td>\n",
       "      <td>Los Angeles</td>\n",
       "      <td>City</td>\n",
       "      <td>CA</td>\n",
       "      <td>CA</td>\n",
       "      <td>Los Angeles-Long Beach-Anaheim</td>\n",
       "      <td>Los Angeles County</td>\n",
       "      <td>188876.0</td>\n",
       "      <td>188852.0</td>\n",
       "      <td>...</td>\n",
       "      <td>768499.0</td>\n",
       "      <td>770044.0</td>\n",
       "      <td>776414.0</td>\n",
       "      <td>785359.0</td>\n",
       "      <td>795471.0</td>\n",
       "      <td>802848.0</td>\n",
       "      <td>809506.0</td>\n",
       "      <td>815031.0</td>\n",
       "      <td>820354.0</td>\n",
       "      <td>826566.0</td>\n",
       "    </tr>\n",
       "    <tr>\n",
       "      <th>2</th>\n",
       "      <td>39051</td>\n",
       "      <td>2</td>\n",
       "      <td>Houston</td>\n",
       "      <td>City</td>\n",
       "      <td>TX</td>\n",
       "      <td>TX</td>\n",
       "      <td>Houston-The Woodlands-Sugar Land</td>\n",
       "      <td>Harris County</td>\n",
       "      <td>93995.0</td>\n",
       "      <td>94111.0</td>\n",
       "      <td>...</td>\n",
       "      <td>194393.0</td>\n",
       "      <td>195129.0</td>\n",
       "      <td>195991.0</td>\n",
       "      <td>197011.0</td>\n",
       "      <td>198710.0</td>\n",
       "      <td>200396.0</td>\n",
       "      <td>202549.0</td>\n",
       "      <td>204655.0</td>\n",
       "      <td>207072.0</td>\n",
       "      <td>209512.0</td>\n",
       "    </tr>\n",
       "    <tr>\n",
       "      <th>3</th>\n",
       "      <td>17426</td>\n",
       "      <td>3</td>\n",
       "      <td>Chicago</td>\n",
       "      <td>City</td>\n",
       "      <td>IL</td>\n",
       "      <td>IL</td>\n",
       "      <td>Chicago-Naperville-Elgin</td>\n",
       "      <td>Cook County</td>\n",
       "      <td>139347.0</td>\n",
       "      <td>139191.0</td>\n",
       "      <td>...</td>\n",
       "      <td>266975.0</td>\n",
       "      <td>267945.0</td>\n",
       "      <td>269615.0</td>\n",
       "      <td>271612.0</td>\n",
       "      <td>274294.0</td>\n",
       "      <td>276976.0</td>\n",
       "      <td>279301.0</td>\n",
       "      <td>281388.0</td>\n",
       "      <td>283045.0</td>\n",
       "      <td>285579.0</td>\n",
       "    </tr>\n",
       "    <tr>\n",
       "      <th>4</th>\n",
       "      <td>6915</td>\n",
       "      <td>4</td>\n",
       "      <td>San Antonio</td>\n",
       "      <td>City</td>\n",
       "      <td>TX</td>\n",
       "      <td>TX</td>\n",
       "      <td>San Antonio-New Braunfels</td>\n",
       "      <td>Bexar County</td>\n",
       "      <td>96139.0</td>\n",
       "      <td>96105.0</td>\n",
       "      <td>...</td>\n",
       "      <td>192132.0</td>\n",
       "      <td>192622.0</td>\n",
       "      <td>193484.0</td>\n",
       "      <td>194590.0</td>\n",
       "      <td>196002.0</td>\n",
       "      <td>197720.0</td>\n",
       "      <td>199522.0</td>\n",
       "      <td>201477.0</td>\n",
       "      <td>203432.0</td>\n",
       "      <td>205742.0</td>\n",
       "    </tr>\n",
       "  </tbody>\n",
       "</table>\n",
       "<p>5 rows × 310 columns</p>\n",
       "</div>"
      ],
      "text/plain": [
       "   RegionID  SizeRank   RegionName RegionType StateName State  \\\n",
       "0      6181         0     New York       City        NY    NY   \n",
       "1     12447         1  Los Angeles       City        CA    CA   \n",
       "2     39051         2      Houston       City        TX    TX   \n",
       "3     17426         3      Chicago       City        IL    IL   \n",
       "4      6915         4  San Antonio       City        TX    TX   \n",
       "\n",
       "                              Metro          CountyName  1996-01-31  \\\n",
       "0       New York-Newark-Jersey City       Queens County    191446.0   \n",
       "1    Los Angeles-Long Beach-Anaheim  Los Angeles County    188876.0   \n",
       "2  Houston-The Woodlands-Sugar Land       Harris County     93995.0   \n",
       "3          Chicago-Naperville-Elgin         Cook County    139347.0   \n",
       "4         San Antonio-New Braunfels        Bexar County     96139.0   \n",
       "\n",
       "   1996-02-29  ...  2020-05-31  2020-06-30  2020-07-31  2020-08-31  \\\n",
       "0    190894.0  ...    639311.0    640784.0    641740.0    643737.0   \n",
       "1    188852.0  ...    768499.0    770044.0    776414.0    785359.0   \n",
       "2     94111.0  ...    194393.0    195129.0    195991.0    197011.0   \n",
       "3    139191.0  ...    266975.0    267945.0    269615.0    271612.0   \n",
       "4     96105.0  ...    192132.0    192622.0    193484.0    194590.0   \n",
       "\n",
       "   2020-09-30  2020-10-31  2020-11-30  2020-12-31  2021-01-31  2021-02-28  \n",
       "0    645612.0    647736.0    649650.0    651034.0    651760.0    652012.0  \n",
       "1    795471.0    802848.0    809506.0    815031.0    820354.0    826566.0  \n",
       "2    198710.0    200396.0    202549.0    204655.0    207072.0    209512.0  \n",
       "3    274294.0    276976.0    279301.0    281388.0    283045.0    285579.0  \n",
       "4    196002.0    197720.0    199522.0    201477.0    203432.0    205742.0  \n",
       "\n",
       "[5 rows x 310 columns]"
      ]
     },
     "execution_count": 13,
     "metadata": {},
     "output_type": "execute_result"
    }
   ],
   "source": [
    "city_data.head()"
   ]
  },
  {
   "cell_type": "code",
   "execution_count": 14,
   "metadata": {},
   "outputs": [
    {
     "data": {
      "text/html": [
       "<div>\n",
       "<style scoped>\n",
       "    .dataframe tbody tr th:only-of-type {\n",
       "        vertical-align: middle;\n",
       "    }\n",
       "\n",
       "    .dataframe tbody tr th {\n",
       "        vertical-align: top;\n",
       "    }\n",
       "\n",
       "    .dataframe thead th {\n",
       "        text-align: right;\n",
       "    }\n",
       "</style>\n",
       "<table border=\"1\" class=\"dataframe\">\n",
       "  <thead>\n",
       "    <tr style=\"text-align: right;\">\n",
       "      <th></th>\n",
       "      <th>City</th>\n",
       "      <th>State</th>\n",
       "      <th>HomePrice</th>\n",
       "      <th>StartupNumber</th>\n",
       "      <th>DegreePercent</th>\n",
       "    </tr>\n",
       "  </thead>\n",
       "  <tbody>\n",
       "    <tr>\n",
       "      <th>0</th>\n",
       "      <td>Irvine</td>\n",
       "      <td>CA</td>\n",
       "      <td>NaN</td>\n",
       "      <td>NaN</td>\n",
       "      <td>68.50</td>\n",
       "    </tr>\n",
       "    <tr>\n",
       "      <th>1</th>\n",
       "      <td>Seattle</td>\n",
       "      <td>WA</td>\n",
       "      <td>NaN</td>\n",
       "      <td>NaN</td>\n",
       "      <td>62.80</td>\n",
       "    </tr>\n",
       "    <tr>\n",
       "      <th>2</th>\n",
       "      <td>Madison</td>\n",
       "      <td>WI</td>\n",
       "      <td>NaN</td>\n",
       "      <td>NaN</td>\n",
       "      <td>57.90</td>\n",
       "    </tr>\n",
       "    <tr>\n",
       "      <th>3</th>\n",
       "      <td>Washington</td>\n",
       "      <td>DC</td>\n",
       "      <td>NaN</td>\n",
       "      <td>NaN</td>\n",
       "      <td>57.60</td>\n",
       "    </tr>\n",
       "    <tr>\n",
       "      <th>4</th>\n",
       "      <td>Scottsdale</td>\n",
       "      <td>AZ</td>\n",
       "      <td>NaN</td>\n",
       "      <td>NaN</td>\n",
       "      <td>57.20</td>\n",
       "    </tr>\n",
       "  </tbody>\n",
       "</table>\n",
       "</div>"
      ],
      "text/plain": [
       "         City State HomePrice StartupNumber DegreePercent\n",
       "0      Irvine    CA       NaN           NaN         68.50\n",
       "1     Seattle    WA       NaN           NaN         62.80\n",
       "2     Madison    WI       NaN           NaN         57.90\n",
       "3  Washington    DC       NaN           NaN         57.60\n",
       "4  Scottsdale    AZ       NaN           NaN         57.20"
      ]
     },
     "execution_count": 14,
     "metadata": {},
     "output_type": "execute_result"
    }
   ],
   "source": [
    "investor_data.head()"
   ]
  },
  {
   "cell_type": "markdown",
   "metadata": {},
   "source": [
    "Now, we remove columns that we will not be needing"
   ]
  },
  {
   "cell_type": "code",
   "execution_count": 15,
   "metadata": {},
   "outputs": [],
   "source": [
    "# Retain only needed columns and put them into updated dataframe.\n",
    "metro_data_slim = metro_data[['RegionName', 'StateName', '2021-02-28']]\n",
    "city_data_slim = city_data[['RegionName', 'StateName', 'Metro']]"
   ]
  },
  {
   "cell_type": "code",
   "execution_count": 16,
   "metadata": {},
   "outputs": [
    {
     "data": {
      "text/html": [
       "<div>\n",
       "<style scoped>\n",
       "    .dataframe tbody tr th:only-of-type {\n",
       "        vertical-align: middle;\n",
       "    }\n",
       "\n",
       "    .dataframe tbody tr th {\n",
       "        vertical-align: top;\n",
       "    }\n",
       "\n",
       "    .dataframe thead th {\n",
       "        text-align: right;\n",
       "    }\n",
       "</style>\n",
       "<table border=\"1\" class=\"dataframe\">\n",
       "  <thead>\n",
       "    <tr style=\"text-align: right;\">\n",
       "      <th></th>\n",
       "      <th>RegionName</th>\n",
       "      <th>StateName</th>\n",
       "      <th>Metro</th>\n",
       "    </tr>\n",
       "  </thead>\n",
       "  <tbody>\n",
       "    <tr>\n",
       "      <th>0</th>\n",
       "      <td>New York</td>\n",
       "      <td>NY</td>\n",
       "      <td>New York-Newark-Jersey City</td>\n",
       "    </tr>\n",
       "    <tr>\n",
       "      <th>1</th>\n",
       "      <td>Los Angeles</td>\n",
       "      <td>CA</td>\n",
       "      <td>Los Angeles-Long Beach-Anaheim</td>\n",
       "    </tr>\n",
       "  </tbody>\n",
       "</table>\n",
       "</div>"
      ],
      "text/plain": [
       "    RegionName StateName                           Metro\n",
       "0     New York        NY     New York-Newark-Jersey City\n",
       "1  Los Angeles        CA  Los Angeles-Long Beach-Anaheim"
      ]
     },
     "execution_count": 16,
     "metadata": {},
     "output_type": "execute_result"
    }
   ],
   "source": [
    "city_data_slim.head(2)"
   ]
  },
  {
   "cell_type": "markdown",
   "metadata": {},
   "source": [
    "We will now create a column that contains the metropolitan area that the city is apart of."
   ]
  },
  {
   "cell_type": "code",
   "execution_count": 17,
   "metadata": {},
   "outputs": [],
   "source": [
    "# Create list of metro areas for corresponding cities by matching metro names to towns and states.\n",
    "metro_list = []\n",
    "for i_index in range(investor_data.shape[0]):\n",
    "    i_city = investor_data.loc[i_index]['City']\n",
    "    i_state = investor_data.loc[i_index]['State']\n",
    "    metro = city_data_slim.loc[(city_data_slim['RegionName'] == i_city) & (city_data_slim['StateName'] == i_state)]['Metro']\n",
    "    metro_list.append(str(metro.values).replace('[', '').replace(']', '').replace(\"'\", ''))"
   ]
  },
  {
   "cell_type": "code",
   "execution_count": 18,
   "metadata": {},
   "outputs": [],
   "source": [
    "# Add list of metro areas to dataframe.\n",
    "investor_data['Metro'] = metro_list"
   ]
  },
  {
   "cell_type": "code",
   "execution_count": 19,
   "metadata": {},
   "outputs": [],
   "source": [
    "# Manually add metro areas to rows that tripped up algorithm for one reason or another\n",
    "investor_data.loc[24, 'Metro'] = investor_data.loc[24, 'Metro'].replace('', 'Boise City')\n",
    "investor_data.loc[24, 'City'] = investor_data.loc[24, 'City'].replace('Boise City', 'Boise')\n",
    "investor_data.loc[25, 'Metro'] = investor_data.loc[25, 'Metro'].replace('', 'Minneapolis–Saint Paul')\n",
    "investor_data.loc[36, 'Metro'] = investor_data.loc[36, 'Metro'].replace('', 'Honolulu')\n",
    "investor_data.loc[36, 'City'] = investor_data.loc[36, 'City'].replace('Urban Honolulu', 'Honolulu')\n",
    "investor_data.loc[42, 'Metro'] = investor_data.loc[42, 'Metro'].replace('', 'St. Louis, MO-IL')\n",
    "investor_data.loc[44, 'Metro'] = investor_data.loc[44, 'Metro'].replace('', 'Tampa–St. Petersburg–Clearwater')"
   ]
  },
  {
   "cell_type": "markdown",
   "metadata": {},
   "source": [
    "We will also create a columns containing the zillow home index values for the metro areas."
   ]
  },
  {
   "cell_type": "code",
   "execution_count": 20,
   "metadata": {},
   "outputs": [],
   "source": [
    "# Create a list of housing costs for each metro area.\n",
    "house_list = []\n",
    "for row in range(investor_data.shape[0]):\n",
    "    i_city = investor_data.loc[row]['City']\n",
    "    i_state = investor_data.loc[row]['State']\n",
    "    m_metro = metro_data_slim['RegionName']\n",
    "    house_cost = metro_data_slim.loc[(m_metro.str.contains(i_city)) & (m_metro.str.contains(i_state))]['2021-02-28']\n",
    "    house_list.append(str(house_cost.values).replace('[', '').replace(']', '').replace(\"'\", '').replace(\".\", ''))"
   ]
  },
  {
   "cell_type": "code",
   "execution_count": 21,
   "metadata": {},
   "outputs": [],
   "source": [
    "# Add housing data to the dataframe\n",
    "investor_data['HomePrice'] = house_list"
   ]
  },
  {
   "cell_type": "code",
   "execution_count": 22,
   "metadata": {},
   "outputs": [
    {
     "data": {
      "text/html": [
       "<div>\n",
       "<style scoped>\n",
       "    .dataframe tbody tr th:only-of-type {\n",
       "        vertical-align: middle;\n",
       "    }\n",
       "\n",
       "    .dataframe tbody tr th {\n",
       "        vertical-align: top;\n",
       "    }\n",
       "\n",
       "    .dataframe thead th {\n",
       "        text-align: right;\n",
       "    }\n",
       "</style>\n",
       "<table border=\"1\" class=\"dataframe\">\n",
       "  <thead>\n",
       "    <tr style=\"text-align: right;\">\n",
       "      <th></th>\n",
       "      <th>RegionName</th>\n",
       "      <th>StateName</th>\n",
       "      <th>2021-02-28</th>\n",
       "    </tr>\n",
       "  </thead>\n",
       "  <tbody>\n",
       "    <tr>\n",
       "      <th>0</th>\n",
       "      <td>United States</td>\n",
       "      <td>NaN</td>\n",
       "      <td>272446.0</td>\n",
       "    </tr>\n",
       "    <tr>\n",
       "      <th>1</th>\n",
       "      <td>New York, NY</td>\n",
       "      <td>NY</td>\n",
       "      <td>520587.0</td>\n",
       "    </tr>\n",
       "    <tr>\n",
       "      <th>2</th>\n",
       "      <td>Los Angeles-Long Beach-Anaheim, CA</td>\n",
       "      <td>CA</td>\n",
       "      <td>761635.0</td>\n",
       "    </tr>\n",
       "    <tr>\n",
       "      <th>3</th>\n",
       "      <td>Chicago, IL</td>\n",
       "      <td>IL</td>\n",
       "      <td>263185.0</td>\n",
       "    </tr>\n",
       "    <tr>\n",
       "      <th>4</th>\n",
       "      <td>Dallas-Fort Worth, TX</td>\n",
       "      <td>TX</td>\n",
       "      <td>278259.0</td>\n",
       "    </tr>\n",
       "  </tbody>\n",
       "</table>\n",
       "</div>"
      ],
      "text/plain": [
       "                           RegionName StateName  2021-02-28\n",
       "0                       United States       NaN    272446.0\n",
       "1                        New York, NY        NY    520587.0\n",
       "2  Los Angeles-Long Beach-Anaheim, CA        CA    761635.0\n",
       "3                         Chicago, IL        IL    263185.0\n",
       "4               Dallas-Fort Worth, TX        TX    278259.0"
      ]
     },
     "execution_count": 22,
     "metadata": {},
     "output_type": "execute_result"
    }
   ],
   "source": [
    "metro_data_slim.head()"
   ]
  },
  {
   "cell_type": "code",
   "execution_count": 23,
   "metadata": {},
   "outputs": [],
   "source": [
    "# Add 'HomePrice' values to rows that tripped up the algorithm for one reason or another\n",
    "home_index = investor_data.query('HomePrice == \"\"').index.tolist()\n",
    "blank_metro = investor_data.query('HomePrice == \"\"')['Metro'].tolist()\n",
    "blank_state = investor_data.query('HomePrice == \"\"')['State'].tolist()\n",
    "\n",
    "for index, metro, state in zip(home_index, blank_metro, blank_state):\n",
    "    metro_slice = metro[0:4]\n",
    "    price = str(metro_data_slim.loc[(metro_data_slim['RegionName'].str.contains(metro_slice))\n",
    "                                   &(metro_data_slim['StateName'] == state)]['2021-02-28'].values)\n",
    "    investor_data.loc[index, 'HomePrice'] = investor_data.loc[index, 'HomePrice'].replace(investor_data.loc[index,'HomePrice'],\n",
    "                                                                                          price[1:-2])\n",
    "\n",
    "# ones that above for loop didn't work for\n",
    "investor_data.loc[16, 'HomePrice'] = investor_data.loc[16, 'HomePrice'].replace(investor_data.loc[16,'HomePrice'], '520587')\n",
    "investor_data.loc[61, 'HomePrice'] = investor_data.loc[61, 'HomePrice'].replace(investor_data.loc[61,'HomePrice'], '483254')\n",
    "investor_data.loc[95, 'HomePrice'] = investor_data.loc[95, 'HomePrice'].replace(investor_data.loc[95,'HomePrice'], '520587')\n",
    "investor_data.loc[7, 'HomePrice'] = investor_data.loc[7, 'HomePrice'].replace(investor_data.loc[7,'HomePrice'], '1192921')\n",
    "investor_data.loc[63, 'HomePrice'] = investor_data.loc[63, 'HomePrice'].replace(investor_data.loc[63,'HomePrice'], '702933')\n",
    "investor_data.loc[23, 'HomePrice'] = investor_data.loc[23, 'HomePrice'].replace(investor_data.loc[23,'HomePrice'], '1192921')"
   ]
  },
  {
   "cell_type": "markdown",
   "metadata": {},
   "source": [
    "Now, Lets use the foursquare api to collect the number of tech startups for each city and add them to the dataframe."
   ]
  },
  {
   "cell_type": "code",
   "execution_count": 24,
   "metadata": {},
   "outputs": [],
   "source": [
    "# Create list that contains the number of tech startups for each city.\n",
    "tech_numbers = []\n",
    "for index in range(investor_data.shape[0]):\n",
    "    city = investor_data.loc[index]['City']\n",
    "    state = investor_data.loc[index]['State']\n",
    "    NEAR = city + ', ' + state\n",
    "    tech_url = 'https://api.foursquare.com/v2/venues/explore?&client_id={}&client_secret={}&v={}&categoryId={}&near={}'.format(\n",
    "                     CLIENT_ID, \n",
    "                     CLIENT_SECRET, \n",
    "                     VERSION,\n",
    "                     CATEGORYID,\n",
    "                     NEAR)\n",
    "    tech_results = requests.get(tech_url).json()['response']['totalResults']\n",
    "    tech_numbers.append(tech_results)"
   ]
  },
  {
   "cell_type": "code",
   "execution_count": 25,
   "metadata": {},
   "outputs": [],
   "source": [
    "# Add tech numbers list to dataframe\n",
    "investor_data['StartupNumber'] = tech_numbers"
   ]
  },
  {
   "cell_type": "code",
   "execution_count": 26,
   "metadata": {},
   "outputs": [],
   "source": [
    "# Convert 'HomePrice' and 'DegreePercent' dataframes from string to int and float, respectfully.\n",
    "investor_data['HomePrice'] = investor_data['HomePrice'].astype(int)\n",
    "investor_data['DegreePercent'] = investor_data['DegreePercent'].astype(float)"
   ]
  },
  {
   "cell_type": "markdown",
   "metadata": {},
   "source": [
    "## Methodology<a name=\"methodology\"></a>"
   ]
  },
  {
   "cell_type": "markdown",
   "metadata": {},
   "source": [
    "[Back to Top](#top)"
   ]
  },
  {
   "cell_type": "markdown",
   "metadata": {},
   "source": [
    "During this analysis, We will take a look at each feature at the minumum desired level, then try to to combine them to find the cream of the crop. Those desired levels are as follows:\n",
    "\n",
    "* A zillow home index value of less than 400k dollars. The zillow home index is a value that is obtained by taking those homes whose price falls above the 35th percentile and below the 65th percentile and finding the median. In other words, they cut out the least and most expensive homes and take the median of what remains. This value is for homes that are in the metropolitan areas of the target cities. Most people are willing to travel some ways to get to work.\n",
    "\n",
    "* Cities with at least a hundred startups. City population doesn't really matter here beacuse those startups are sufficient to create a tech culture regardless.\n",
    "\n",
    "* A city where at least 45% of the people have bachelor's degrees."
   ]
  },
  {
   "cell_type": "markdown",
   "metadata": {},
   "source": [
    "## Analysis <a name=\"analysis\"></a>"
   ]
  },
  {
   "cell_type": "code",
   "execution_count": 27,
   "metadata": {},
   "outputs": [],
   "source": [
    "# Create function to plot variations of this dataset\n",
    "def plot_invest(df):\n",
    "    plt.scatter(data = df, x = 'StartupNumber', y = 'HomePrice', c = 'DegreePercent')\n",
    "    plt.xlabel('Number of Startups')\n",
    "    plt.ylabel('Zillow Home Index')\n",
    "    plt.ticklabel_format(style = 'plain')\n",
    "    cbar = plt.colorbar()\n",
    "    cbar.set_label('Percent with College Degrees')\n",
    "    plt.title('Number of Startups Per City by College Degree Percentage and the Zillow Home Value Index');"
   ]
  },
  {
   "cell_type": "markdown",
   "metadata": {},
   "source": [
    "Let's start by taking stock of all the data. We will do this by putting the entire dataframe into a scatterplot."
   ]
  },
  {
   "cell_type": "code",
   "execution_count": 28,
   "metadata": {},
   "outputs": [
    {
     "data": {
      "image/png": "[encoded data removed]",
      "text/plain": [
       "<Figure size 432x288 with 2 Axes>"
      ]
     },
     "metadata": {
      "needs_background": "light"
     },
     "output_type": "display_data"
    }
   ],
   "source": [
    "plot_invest(investor_data)"
   ]
  },
  {
   "cell_type": "markdown",
   "metadata": {},
   "source": [
    "To get a feel for the upsides and downsides of each, lets look at the cities that have 1 aspect of the features that we are looking for. We will start with lower housing costs."
   ]
  },
  {
   "cell_type": "code",
   "execution_count": 29,
   "metadata": {},
   "outputs": [
    {
     "data": {
      "image/png": "[encoded data removed]",
      "text/plain": [
       "<Figure size 432x288 with 2 Axes>"
      ]
     },
     "metadata": {
      "needs_background": "light"
     },
     "output_type": "display_data"
    }
   ],
   "source": [
    "low_house = investor_data[investor_data['HomePrice'] < 400000]\n",
    "\n",
    "plot_invest(low_house)"
   ]
  },
  {
   "cell_type": "markdown",
   "metadata": {},
   "source": [
    "Lets move on to cities with high levels of college graduates."
   ]
  },
  {
   "cell_type": "code",
   "execution_count": 30,
   "metadata": {},
   "outputs": [
    {
     "data": {
      "image/png": "[encoded data removed]",
      "text/plain": [
       "<Figure size 432x288 with 2 Axes>"
      ]
     },
     "metadata": {
      "needs_background": "light"
     },
     "output_type": "display_data"
    }
   ],
   "source": [
    "high_degree = investor_data[investor_data['DegreePercent'] >= 45]\n",
    "\n",
    "plot_invest(high_degree)"
   ]
  },
  {
   "cell_type": "markdown",
   "metadata": {},
   "source": [
    "Finally, lets look at cities with high startup numbers. "
   ]
  },
  {
   "cell_type": "code",
   "execution_count": 31,
   "metadata": {},
   "outputs": [
    {
     "data": {
      "image/png": "[encoded data removed]",
      "text/plain": [
       "<Figure size 432x288 with 2 Axes>"
      ]
     },
     "metadata": {
      "needs_background": "light"
     },
     "output_type": "display_data"
    }
   ],
   "source": [
    "high_startup = investor_data[investor_data['StartupNumber'] >= 99]\n",
    "\n",
    "plot_invest(high_startup)"
   ]
  },
  {
   "cell_type": "markdown",
   "metadata": {},
   "source": [
    "Now that we have looked at each on it's own, lets try looking at cities that have all of the traits that we desire."
   ]
  },
  {
   "cell_type": "code",
   "execution_count": 32,
   "metadata": {},
   "outputs": [
    {
     "data": {
      "image/png": "[encoded data removed]",
      "text/plain": [
       "<Figure size 432x288 with 2 Axes>"
      ]
     },
     "metadata": {
      "needs_background": "light"
     },
     "output_type": "display_data"
    }
   ],
   "source": [
    "ideal_invest = investor_data[(investor_data['StartupNumber'].between(99, 200)) & \n",
    "                             (investor_data['HomePrice'].between(0, 400000)) &\n",
    "                             (investor_data['DegreePercent'].between(44, 100))]\n",
    "\n",
    "city_label = ideal_invest['City'].values.tolist()\n",
    "x = ideal_invest['StartupNumber'].values.tolist()\n",
    "y = ideal_invest['HomePrice'].values.tolist()\n",
    "\n",
    "plt.scatter(data = ideal_invest, x = 'StartupNumber', y = 'HomePrice', c = 'DegreePercent')\n",
    "plt.xlabel('Number of Startups')\n",
    "plt.ylabel('Zillow Home Index')\n",
    "plt.ticklabel_format(style = 'plain')\n",
    "for i, txt in enumerate(city_label):\n",
    "    if i == 1:\n",
    "        plt.annotate(txt, (x[i] - 3.1, y[i]))\n",
    "    else:\n",
    "        plt.annotate(txt, (x[i] + 0.4, y[i]))\n",
    "cbar = plt.colorbar()\n",
    "cbar.set_label('Percent with College Degrees')\n",
    "plt.title('Number of Startups Per City by College Degree Percentage and the Zillow Home Value Index');"
   ]
  },
  {
   "cell_type": "markdown",
   "metadata": {},
   "source": [
    "## Results <a name=\"results\"></a>"
   ]
  },
  {
   "cell_type": "markdown",
   "metadata": {},
   "source": [
    "[Back to Top](#top)"
   ]
  },
  {
   "cell_type": "markdown",
   "metadata": {},
   "source": [
    "As expected, most cities are not tech hubs. Most have somewhat lower levels of college graduates, along with lower housing costs and lower startup levels.<br>\n",
    "\n",
    "Cities with homes that have a median value of less than 400k dollars typically have lower numbers of tech startups. So, while there are many cities in this cluster that have somewhat higher levels of college graduates, the low tech startup levels indicate that they may focus on other industries than tech.<br>\n",
    "\n",
    "There are fewer cities in the cluster made up of cities that have at least 45% college graduates than the one with lower housing costs. While there are a few here with higher levels of tech startups, they also have higher housing costs. This may indicate that these markets are already hot, and might not unlock the best value for employers or employees.<br>\n",
    "\n",
    "Some cities that have higher numbers of tech startups tend to have lower housing costs, but they also tend to have a very low percentage of people with college degrees. This might indicate problems recruiting top employees to the city not only because of lack of cultural fit, but because of a possible lack of alternative employment opportunities.<br>\n",
    "\n",
    "There are 3 cities that have all the features that we desire. Of course, that is only how I see things, so the investor/company could see fit to adjust these levels. They may also assign different weights to these values depending on their own needs. That being said, My personal recommedation would be Atlanta. While it may have a relatively lower level of college graduates than the other 2, the increase in tech startups and the significantly lower cost of housing make it worth it."
   ]
  },
  {
   "cell_type": "markdown",
   "metadata": {},
   "source": [
    "## Conclusion <a name=\"conclusion\"></a>"
   ]
  },
  {
   "cell_type": "markdown",
   "metadata": {},
   "source": [
    "The purpose of this project was to identify alternative American cities that would be a good fit for companies to move or venture funds to invest in. The features that were used to perform this analysis were the number of tech startups in the city, the percentage of adults over 25 with at least a bachelor's degree, and the zillow home value index for the metropolitan area that contains the city. Interested stakeholders may also want to take other things into consideration, such as climate, transportation and cultural amenities. "
   ]
  },
  {
   "cell_type": "code",
   "execution_count": null,
   "metadata": {},
   "outputs": [],
   "source": []
  }
 ],
 "metadata": {
  "kernelspec": {
   "display_name": "Python 3",
   "language": "python",
   "name": "python3"
  },
  "language_info": {
   "codemirror_mode": {
    "name": "ipython",
    "version": 3
   },
   "file_extension": ".py",
   "mimetype": "text/x-python",
   "name": "python",
   "nbconvert_exporter": "python",
   "pygments_lexer": "ipython3",
   "version": "3.8.5"
  }
 },
 "nbformat": 4,
 "nbformat_minor": 4
}
